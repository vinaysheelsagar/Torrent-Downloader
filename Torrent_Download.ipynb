{
  "cells": [
    {
      "cell_type": "code",
      "execution_count": null,
      "metadata": {
        "colab": {
          "base_uri": "https://localhost:8080/"
        },
        "id": "5LhJTaNBy6M6",
        "outputId": "ce00b8b7-6202-41d0-9539-fdcffb157e9e"
      },
      "outputs": [
        {
          "name": "stdout",
          "output_type": "stream",
          "text": [
            "\u001b[2K     \u001b[90m━━━━━━━━━━━━━━━━━━━━━━━━━━━━━━━━━━━━━━━━\u001b[0m \u001b[32m2.1/2.1 MB\u001b[0m \u001b[31m7.1 MB/s\u001b[0m eta \u001b[36m0:00:00\u001b[0m\n",
            "\u001b[?25h\u001b[31mERROR: pip's dependency resolver does not currently take into account all the packages that are installed. This behaviour is the source of the following dependency conflicts.\n",
            "ipython 7.34.0 requires jedi>=0.16, which is not installed.\u001b[0m\u001b[31m\n",
            "\u001b[2K   \u001b[90m━━━━━━━━━━━━━━━━━━━━━━━━━━━━━━━━━━━━━━━━\u001b[0m \u001b[32m2.4/2.4 MB\u001b[0m \u001b[31m24.5 MB/s\u001b[0m eta \u001b[36m0:00:00\u001b[0m\n",
            "\u001b[?25h\u001b[33mWARNING: Running pip as the 'root' user can result in broken permissions and conflicting behaviour with the system package manager. It is recommended to use a virtual environment instead: https://pip.pypa.io/warnings/venv\u001b[0m\u001b[33m\n",
            "\u001b[0mReading package lists...\n",
            "Building dependency tree...\n",
            "Reading state information...\n",
            "The following additional packages will be installed:\n",
            "  libtorrent-rasterbar2.0\n",
            "The following NEW packages will be installed:\n",
            "  libtorrent-rasterbar2.0 python3-libtorrent\n",
            "0 upgraded, 2 newly installed, 0 to remove and 45 not upgraded.\n",
            "Need to get 2,098 kB of archives.\n",
            "After this operation, 7,907 kB of additional disk space will be used.\n",
            "Get:1 http://archive.ubuntu.com/ubuntu jammy/universe amd64 libtorrent-rasterbar2.0 amd64 2.0.5-5 [1,501 kB]\n",
            "Get:2 http://archive.ubuntu.com/ubuntu jammy/universe amd64 python3-libtorrent amd64 2.0.5-5 [597 kB]\n",
            "Fetched 2,098 kB in 3s (714 kB/s)\n",
            "Selecting previously unselected package libtorrent-rasterbar2.0:amd64.\n",
            "(Reading database ... 121920 files and directories currently installed.)\n",
            "Preparing to unpack .../libtorrent-rasterbar2.0_2.0.5-5_amd64.deb ...\n",
            "Unpacking libtorrent-rasterbar2.0:amd64 (2.0.5-5) ...\n",
            "Selecting previously unselected package python3-libtorrent.\n",
            "Preparing to unpack .../python3-libtorrent_2.0.5-5_amd64.deb ...\n",
            "Unpacking python3-libtorrent (2.0.5-5) ...\n",
            "Setting up libtorrent-rasterbar2.0:amd64 (2.0.5-5) ...\n",
            "Setting up python3-libtorrent (2.0.5-5) ...\n",
            "Processing triggers for libc-bin (2.35-0ubuntu3.4) ...\n",
            "/sbin/ldconfig.real: /usr/local/lib/libtbb.so.12 is not a symbolic link\n",
            "\n",
            "/sbin/ldconfig.real: /usr/local/lib/libtbbmalloc.so.2 is not a symbolic link\n",
            "\n",
            "/sbin/ldconfig.real: /usr/local/lib/libtbbmalloc_proxy.so.2 is not a symbolic link\n",
            "\n",
            "/sbin/ldconfig.real: /usr/local/lib/libtbbbind.so.3 is not a symbolic link\n",
            "\n",
            "/sbin/ldconfig.real: /usr/local/lib/libtbbbind_2_0.so.3 is not a symbolic link\n",
            "\n",
            "/sbin/ldconfig.real: /usr/local/lib/libtbbbind_2_5.so.3 is not a symbolic link\n",
            "\n"
          ]
        }
      ],
      "source": [
        "!python -m pip install --upgrade pip setuptools wheel -q\n",
        "!python -m pip install lbry-libtorrent icecream -q\n",
        "!apt install python3-libtorrent -q"
      ]
    },
    {
      "cell_type": "code",
      "execution_count": null,
      "metadata": {
        "id": "69kpRofny_Ii"
      },
      "outputs": [],
      "source": [
        "import os\n",
        "import time\n",
        "import math\n",
        "import shutil\n",
        "import threading\n",
        "from icecream import ic\n",
        "import libtorrent as lt\n",
        "import ipywidgets as widgets\n",
        "from dataclasses import dataclass\n",
        "from IPython.display import display"
      ]
    },
    {
      "cell_type": "code",
      "execution_count": null,
      "metadata": {
        "id": "m6hF0emftx4h"
      },
      "outputs": [],
      "source": [
        "class Category:\n",
        "\n",
        "  def __init__(\n",
        "    self,\n",
        "    name: str,\n",
        "    directory: str = os.getcwd(),\n",
        "  ):\n",
        "    self.name = name\n",
        "    self.directory = directory\n",
        "    self.links = []\n",
        "\n",
        "    save_path = os.path.join(self.directory, self.name, \"Still Downloading\")\n",
        "    self.param = {\"save_path\": save_path}\n",
        "\n",
        "  def add_links(self, links_str: str):\n",
        "    link_lines = links_str.split('\\n')\n",
        "\n",
        "    for line in link_lines:\n",
        "      uri_index = line.find('magnet:?')\n",
        "\n",
        "      if uri_index == -1:\n",
        "        continue\n",
        "\n",
        "      magnet_link = line[uri_index:].split()[0]\n",
        "\n",
        "      self.links.append(magnet_link)\n",
        "      print(f\"{self.name}:\", 'Added Magnet Link:', magnet_link)\n"
      ]
    },
    {
      "cell_type": "code",
      "execution_count": null,
      "metadata": {
        "id": "2Th9h-eDF7Z1"
      },
      "outputs": [],
      "source": [
        "@dataclass\n",
        "class Download:\n",
        "  bar: widgets.FloatSlider\n",
        "  torrent: lt.torrent_handle\n",
        "\n",
        "  # def __init__(self, layout, style, ses, magnet_link, params):\n",
        "  #   self.bar = widgets.FloatSlider(\n",
        "  #       step=0.01, disabled=True, layout=layout, style=style\n",
        "  #   )\n",
        "  #   torrent = lt.add_magnet_uri(ses,  magnet_link, params)\n",
        "  #   ic(torrent)\n",
        "  #   self.torrent = torrent\n",
        "\n"
      ]
    },
    {
      "cell_type": "code",
      "execution_count": null,
      "metadata": {
        "id": "j5Pe-9Qy_cYV"
      },
      "outputs": [],
      "source": [
        "class Downloader:\n",
        "\n",
        "  downloads = []\n",
        "\n",
        "  ses = lt.session({'allow_multiple_connections_per_ip': True,\n",
        "    'dont_count_slow_torrents': True,\n",
        "    'active_downloads': -1,\n",
        "    'active_seeds': 7,\n",
        "    'active_checking': -1,})\n",
        "\n",
        "  layout = widgets.Layout(width=\"auto\")\n",
        "  style = {\"description_width\": \"initial\"}\n",
        "\n",
        "  state_str = [\n",
        "      \"queued\",\n",
        "      \"checking\",\n",
        "      \"downloading metadata\",\n",
        "      \"downloading\",\n",
        "      \"finished\",\n",
        "      \"seeding\",\n",
        "      \"allocating\",\n",
        "      \"checking fastresume\",\n",
        "  ]\n",
        "\n",
        "  def __init__(self):\n",
        "    self.ses.listen_on(6881, 6901)\n",
        "\n",
        "  def add_category(self, category):\n",
        "    params = category.param\n",
        "    magnet_uris = category.links\n",
        "\n",
        "    for magnet_uri in magnet_uris:\n",
        "      # self.downloads.append(Download(self.layout, self.style, ses, magnet_uri, params))\n",
        "      self.downloads.append(\n",
        "        Download(\n",
        "          widgets.FloatSlider(\n",
        "            step=0.01, disabled=True, layout=self.layout, style=self.style\n",
        "          ),\n",
        "          lt.add_magnet_uri(self.ses,  magnet_uri, params),\n",
        "        )\n",
        "      )\n",
        "    # ic(self.downloads)\n",
        "\n",
        "  def _display_download_bars(self):\n",
        "    download_bars = [\n",
        "        download.bar\n",
        "        for download in self.downloads\n",
        "    ]\n",
        "    # ic(download_bars)\n",
        "    display(*download_bars)\n",
        "\n",
        "    return download_bars\n",
        "\n",
        "  def _close_torrent(self, download, download_bars: list):\n",
        "    self.ses.remove_torrent(download.torrent)\n",
        "    self.downloads.remove(download)\n",
        "    download.bar.close()\n",
        "    download_bars.remove(download.bar)\n",
        "\n",
        "  def _move_downloaded_files(self, old_dir, new_dir):\n",
        "    #TODO: add file moving mec\n",
        "    os.rename(old_dir, new_dir)\n",
        "\n",
        "  def start_downloading(self):\n",
        "    moving_threads = []\n",
        "    download_bars = self._display_download_bars()\n",
        "\n",
        "    # ic(self.downloads)\n",
        "    while self.downloads:\n",
        "\n",
        "      for download in self.downloads:\n",
        "        torrent = download.torrent\n",
        "        bar = download.bar\n",
        "\n",
        "        status = torrent.status()\n",
        "\n",
        "        incomplete_download_dir = status.save_path\n",
        "        complete_download_dir = os.path.dirname(incomplete_download_dir)\n",
        "\n",
        "        incomplete_download_files_dir = os.path.join(\n",
        "          incomplete_download_dir,\n",
        "          torrent.name(),\n",
        "        )\n",
        "        complete_download_files_dir = os.path.join(\n",
        "          complete_download_dir,\n",
        "          torrent.name(),\n",
        "        )\n",
        "\n",
        "        # ic(download_bars)\n",
        "        if os.path.exists(complete_download_files_dir): #s.state != 2 and\n",
        "          print(torrent.name(), \"Already Completed\")\n",
        "          self._close_torrent(download, download_bars)\n",
        "\n",
        "          continue\n",
        "\n",
        "        if download.torrent.is_seed():\n",
        "          print(\"download completed\")\n",
        "          thread = threading.Thread(\n",
        "            target=self._move_downloaded_files,\n",
        "            args=(incomplete_download_files_dir, complete_download_files_dir),\n",
        "          )\n",
        "          thread.start()\n",
        "          moving_threads.append(thread)\n",
        "\n",
        "          # self._close_torrent(download, download_bars)\n",
        "\n",
        "          continue\n",
        "\n",
        "        download.bar.description = \" \".join(\n",
        "            [\n",
        "                download.torrent.name(),\n",
        "                str(status.download_rate / 1000),\n",
        "                \"kB/s\",\n",
        "                self.state_str[status.state],\n",
        "            ]\n",
        "        )\n",
        "        download.bar.value = status.progress * 100\n",
        "\n",
        "      time.sleep(1)\n",
        "\n",
        "    for thread in moving_threads:\n",
        "      thread.join()\n",
        "\n",
        "# downloader = Downloader()\n",
        "# downloader.add_category(shows_n_series)\n",
        "# downloader.start_downloading()"
      ]
    },
    {
      "cell_type": "code",
      "execution_count": null,
      "metadata": {
        "colab": {
          "base_uri": "https://localhost:8080/"
        },
        "id": "z9VtucIqHwSH",
        "outputId": "42fa43f1-5267-41fb-96b8-86607c67c9e3"
      },
      "outputs": [
        {
          "name": "stdout",
          "output_type": "stream",
          "text": [
            "Shows: Added Magnet Link: magnet:?xt=urn:btih:04F5E9F5DB4F07DE34FFDB1858A8144388AA32AA&dn=Andrew+Tate+-+Hustler+University&tr=udp%3A%2F%2Ftracker.coppersurfer.tk%3A6969%2Fannounce&tr=udp%3A%2F%2Ftracker.openbittorrent.com%3A6969%2Fannounce&tr=udp%3A%2F%2Ftracker.opentrackr.org%3A1337&tr=udp%3A%2F%2Ftracker.leechers-paradise.org%3A6969%2Fannounce&tr=udp%3A%2F%2Ftracker.dler.org%3A6969%2Fannounce&tr=udp%3A%2F%2Fopentracker.i2p.rocks%3A6969%2Fannounce&tr=udp%3A%2F%2F47.ip-51-68-199.eu%3A6969%2Fannounce&tr=udp%3A%2F%2Ftracker.internetwarriors.net%3A1337%2Fannounce&tr=udp%3A%2F%2F9.rarbg.to%3A2920%2Fannounce&tr=udp%3A%2F%2Ftracker.pirateparty.gr%3A6969%2Fannounce&tr=udp%3A%2F%2Ftracker.cyberia.is%3A6969%2Fannounce\n"
          ]
        }
      ],
      "source": [
        "shows_n_series = Category(name=\"Shows\", directory=os.getcwd())\n",
        "shows_n_series.add_links(\"\"\"\n",
        "magnet:?xt=urn:btih:04F5E9F5DB4F07DE34FFDB1858A8144388AA32AA&dn=Andrew+Tate+-+Hustler+University&tr=udp%3A%2F%2Ftracker.coppersurfer.tk%3A6969%2Fannounce&tr=udp%3A%2F%2Ftracker.openbittorrent.com%3A6969%2Fannounce&tr=udp%3A%2F%2Ftracker.opentrackr.org%3A1337&tr=udp%3A%2F%2Ftracker.leechers-paradise.org%3A6969%2Fannounce&tr=udp%3A%2F%2Ftracker.dler.org%3A6969%2Fannounce&tr=udp%3A%2F%2Fopentracker.i2p.rocks%3A6969%2Fannounce&tr=udp%3A%2F%2F47.ip-51-68-199.eu%3A6969%2Fannounce&tr=udp%3A%2F%2Ftracker.internetwarriors.net%3A1337%2Fannounce&tr=udp%3A%2F%2F9.rarbg.to%3A2920%2Fannounce&tr=udp%3A%2F%2Ftracker.pirateparty.gr%3A6969%2Fannounce&tr=udp%3A%2F%2Ftracker.cyberia.is%3A6969%2Fannounce\n",
        "\n",
        "\"\"\")"
      ]
    },
    {
      "cell_type": "code",
      "execution_count": null,
      "metadata": {
        "colab": {
          "background_save": true,
          "base_uri": "https://localhost:8080/",
          "height": 49,
          "referenced_widgets": [
            "6be8a7f9e13241ff8e519b69c6a5ab93",
            "4ef4433436f04334a15ae9df5e710a64",
            "dd0d4f04088b4cea8e8bdc7aa9bcbd36"
          ]
        },
        "id": "iGdNd1BDIKwI",
        "outputId": "7b6ce52e-d47d-48be-f98f-192579584647"
      },
      "outputs": [
        {
          "data": {
            "application/vnd.jupyter.widget-view+json": {
              "model_id": "6be8a7f9e13241ff8e519b69c6a5ab93",
              "version_major": 2,
              "version_minor": 0
            },
            "text/plain": [
              "FloatSlider(value=0.0, disabled=True, layout=Layout(width='auto'), step=0.01, style=SliderStyle(description_wi…"
            ]
          },
          "metadata": {},
          "output_type": "display_data"
        },
        {
          "name": "stdout",
          "output_type": "stream",
          "text": [
            "download completed\n",
            "Andrew Tate - Hustler University Already Completed\n"
          ]
        }
      ],
      "source": [
        "downloader = Downloader()\n",
        "downloader.add_category(shows_n_series)\n",
        "downloader.start_downloading()"
      ]
    }
  ],
  "metadata": {
    "colab": {
      "provenance": []
    },
    "kernelspec": {
      "display_name": "Python 3",
      "name": "python3"
    },
    "widgets": {
      "application/vnd.jupyter.widget-state+json": {
        "4ef4433436f04334a15ae9df5e710a64": {
          "model_module": "@jupyter-widgets/base",
          "model_module_version": "1.2.0",
          "model_name": "LayoutModel",
          "state": {
            "_model_module": "@jupyter-widgets/base",
            "_model_module_version": "1.2.0",
            "_model_name": "LayoutModel",
            "_view_count": null,
            "_view_module": "@jupyter-widgets/base",
            "_view_module_version": "1.2.0",
            "_view_name": "LayoutView",
            "align_content": null,
            "align_items": null,
            "align_self": null,
            "border": null,
            "bottom": null,
            "display": null,
            "flex": null,
            "flex_flow": null,
            "grid_area": null,
            "grid_auto_columns": null,
            "grid_auto_flow": null,
            "grid_auto_rows": null,
            "grid_column": null,
            "grid_gap": null,
            "grid_row": null,
            "grid_template_areas": null,
            "grid_template_columns": null,
            "grid_template_rows": null,
            "height": null,
            "justify_content": null,
            "justify_items": null,
            "left": null,
            "margin": null,
            "max_height": null,
            "max_width": null,
            "min_height": null,
            "min_width": null,
            "object_fit": null,
            "object_position": null,
            "order": null,
            "overflow": null,
            "overflow_x": null,
            "overflow_y": null,
            "padding": null,
            "right": null,
            "top": null,
            "visibility": null,
            "width": "auto"
          }
        },
        "6be8a7f9e13241ff8e519b69c6a5ab93": {
          "model_module": "@jupyter-widgets/controls",
          "model_module_version": "1.5.0",
          "model_name": "FloatSliderModel",
          "state": {
            "_dom_classes": [],
            "_model_module": "@jupyter-widgets/controls",
            "_model_module_version": "1.5.0",
            "_model_name": "FloatSliderModel",
            "_view_count": null,
            "_view_module": "@jupyter-widgets/controls",
            "_view_module_version": "1.5.0",
            "_view_name": "FloatSliderView",
            "continuous_update": true,
            "description": "Andrew Tate - Hustler University 0.0 kB/s downloading metadata",
            "description_tooltip": null,
            "disabled": true,
            "layout": "IPY_MODEL_4ef4433436f04334a15ae9df5e710a64",
            "max": 100,
            "min": 0,
            "orientation": "horizontal",
            "readout": true,
            "readout_format": ".2f",
            "step": 0.01,
            "style": "IPY_MODEL_dd0d4f04088b4cea8e8bdc7aa9bcbd36",
            "value": 0
          }
        },
        "dd0d4f04088b4cea8e8bdc7aa9bcbd36": {
          "model_module": "@jupyter-widgets/controls",
          "model_module_version": "1.5.0",
          "model_name": "SliderStyleModel",
          "state": {
            "_model_module": "@jupyter-widgets/controls",
            "_model_module_version": "1.5.0",
            "_model_name": "SliderStyleModel",
            "_view_count": null,
            "_view_module": "@jupyter-widgets/base",
            "_view_module_version": "1.2.0",
            "_view_name": "StyleView",
            "description_width": "initial",
            "handle_color": null
          }
        }
      }
    }
  },
  "nbformat": 4,
  "nbformat_minor": 0
}